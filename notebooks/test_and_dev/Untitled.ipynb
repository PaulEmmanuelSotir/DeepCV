{
 "cells": [
  {
   "cell_type": "markdown",
   "metadata": {},
   "source": [
    "# TESTING AND DEVELOPEMENT NOTEBOOK\n",
    "\n",
    "_Paul-Emmanuel SOTIR_  "
   ]
  },
  {
   "cell_type": "code",
   "execution_count": null,
   "metadata": {},
   "outputs": [],
   "source": [
    "# Imports\n",
    "import re\n",
    "import os\n",
    "import sys\n",
    "import inspect\n",
    "import logging\n",
    "import threading\n",
    "import subprocess\n",
    "from pathlib import Path\n",
    "from typing import Union, Dict, Any, Tuple, Optional"
   ]
  },
  {
   "cell_type": "code",
   "execution_count": null,
   "metadata": {},
   "outputs": [],
   "source": [
    "\n",
    "def start_tensorboard_server(logdir: Union[Path, str], port: Union[int, str], print_server_url: bool = True) -> Tuple[str, bool]:\n",
    "    \"\"\" Non-Blocking call to tensorboard in a child process.\n",
    "    Returns popen subprocess object. Call popen object's `terminate` function in order to stop tensorboard server (prefered way over `deepcv.utils.stop_any_tensorboard_server`). \n",
    "    \"\"\"\n",
    "    sub = subprocess.Popen(['tensorboard', '--logdir', logdir, '--port', port], stdout=subprocess.PIPE, stderr=subprocess.PIPE, universal_newlines=True, check=False)\n",
    "    if print_server_url:\n",
    "        logging.info(f'Started Tensorboard server with `logdir={logdir}`, browse to \"http://localhost:{port}\".')\n",
    "\n",
    "popen.terminate()\n",
    "\n",
    "\n",
    "def stop_any_tensorboard_server(port: Union[int, str], cmd_must_contain: Optional[str] = 'tensorboard') -> bool:\n",
    "    success = False\n",
    "    if sys.platform == 'linux' or sys.platform == 'linux2' or sys.platform == 'darwin':\n",
    "        # Find any process listenning on given port by parsing lsof output\n",
    "        sub = subprocess.run(['lsof', '+M', '-P', '-w', '-n', '-Fpc', '-i', f'TCP:{port}'], stdout=subprocess.PIPE, universal_newlines=True, check=True)\n",
    "        pids = re.findall('p([0-9]+)\\r?\\n', sub.stdout, re.MULTILINE)\n",
    "        comands = re.findall('c([0-9]+)\\r?\\n', sub.stdout, re.MULTILINE)\n",
    "\n",
    "        # Stop all Tensorboard server(s) listenning on given port by killing its process(es)\n",
    "        for cmd, server_pid in zip(comands, pids):\n",
    "            if not cmd_must_contain or cmd_must_contain in cmd.lower():\n",
    "                sub = subprocess.run(['kill', '-9', f'{server_pid}'], stdout=subprocess.PIPE, stderr=subprocess.PIPE, universal_newlines=True, check=False)\n",
    "                if sub.returncode == 0:\n",
    "                    success = True\n",
    "                    logging.info(f'Sucessfully terminated tensorboard server listenning on port \"{port}\" with process pid \"{server_pid}\".')\n",
    "                else:\n",
    "                    logging.warn(f'Warning: `stop_tensorboard_server` failed to stop a Tensorboard server listenning on port \"{port}\": '\n",
    "                                 f'`kill -9 {server_pid}` returned non-zero status \"{sub.returncode}\", `stderr=\"{sub.stderr}\"`.')\n",
    "    else:\n",
    "        logging.warn(f'Warning: `stop_tensorboard_server` function cant stop Tensorboard server on \"{sys.platform}\" OS platform (relies on `lsof` and `kill` Unix commands)')\n",
    "    return success"
   ]
  },
  {
   "cell_type": "code",
   "execution_count": null,
   "metadata": {},
   "outputs": [],
   "source": [
    "start_tensorboard_server(r'../../data/04_training/', port=5005)"
   ]
  }
 ],
 "metadata": {
  "kernelspec": {
   "display_name": "deepcv",
   "language": "python",
   "name": "deepcv"
  },
  "language_info": {
   "codemirror_mode": {
    "name": "ipython",
    "version": 3
   },
   "file_extension": ".py",
   "mimetype": "text/x-python",
   "name": "python",
   "nbconvert_exporter": "python",
   "pygments_lexer": "ipython3",
   "version": "3.7.7"
  }
 },
 "nbformat": 4,
 "nbformat_minor": 2
}
